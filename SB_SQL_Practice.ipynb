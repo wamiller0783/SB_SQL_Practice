{
 "cells": [
  {
   "cell_type": "markdown",
   "metadata": {},
   "source": [
    "### SpringBoard Project: SQL Practice"
   ]
  },
  {
   "cell_type": "code",
   "execution_count": 1,
   "metadata": {},
   "outputs": [],
   "source": [
    "import pymysql\n",
    "import pandas as pd"
   ]
  },
  {
   "cell_type": "code",
   "execution_count": 2,
   "metadata": {},
   "outputs": [
    {
     "name": "stdout",
     "output_type": "stream",
     "text": [
      "Database version : {'VERSION()': '5.7.22'} \n"
     ]
    }
   ],
   "source": [
    "# Open database connection\n",
    "db = pymysql.connect(host=\"localhost\",\n",
    "                     user=\"SB_project\",\n",
    "                     password=\"SpringBoard\",\n",
    "                     db='country_club',\n",
    "                     cursorclass=pymysql.cursors.DictCursor)\n",
    "\n",
    "# prepare a cursor object using cursor() method\n",
    "cursor = db.cursor()\n",
    "\n",
    "# execute SQL version query using execute() method.\n",
    "cursor.execute(\"SELECT VERSION()\")\n",
    "\n",
    "# Fetch a single row using fetchone() method.\n",
    "data = cursor.fetchone()\n",
    "print (\"Database version : %s \" % data)"
   ]
  },
  {
   "cell_type": "markdown",
   "metadata": {},
   "source": [
    "#### Q1: Some of the facilities charge a fee to members, but some do not. Please list the names of the facilities that do. "
   ]
  },
  {
   "cell_type": "code",
   "execution_count": 3,
   "metadata": {},
   "outputs": [
    {
     "name": "stdout",
     "output_type": "stream",
     "text": [
      "  membercost            name\n",
      "0        5.0  Tennis Court 1\n",
      "1        5.0  Tennis Court 2\n",
      "2        9.9  Massage Room 1\n",
      "3        9.9  Massage Room 2\n",
      "4        3.5    Squash Court\n"
     ]
    }
   ],
   "source": [
    "# execute SQL query using execute() method.\n",
    "cursor.execute(\"\"\"\n",
    "SELECT \n",
    "/* Retrieve name and membercost from Facilities table */\n",
    "name,\n",
    "membercost\n",
    "FROM Facilities\n",
    "\n",
    "/* Select entries where the cost to members is greater than zero */\n",
    "WHERE membercost > 0;\n",
    "\"\"\")\n",
    "# Store query results in a Pandas dataframe for formatting\n",
    "df = pd.DataFrame(cursor.fetchall())\n",
    "# Print dataframe\n",
    "print(df)"
   ]
  },
  {
   "cell_type": "markdown",
   "metadata": {},
   "source": [
    "#### Q2: How many facilities do not charge a fee to members? "
   ]
  },
  {
   "cell_type": "code",
   "execution_count": 4,
   "metadata": {},
   "outputs": [
    {
     "name": "stdout",
     "output_type": "stream",
     "text": [
      "   no_cost_count\n",
      "0              4\n"
     ]
    }
   ],
   "source": [
    "# execute SQL query using execute() method.\n",
    "cursor.execute(\"\"\"\n",
    "SELECT \n",
    "/* Count entries in the Facilities table where the member cost equals 0 */\n",
    "COUNT(CASE WHEN membercost=0 THEN 1 END) as no_cost_count\n",
    "FROM Facilities;\n",
    "\"\"\")\n",
    "# Store query results in a Pandas dataframe for formatting\n",
    "df = pd.DataFrame(cursor.fetchall())\n",
    "# Print dataframe\n",
    "print(df)"
   ]
  },
  {
   "cell_type": "markdown",
   "metadata": {},
   "source": [
    "#### Q3: How can you produce a list of facilities that charge a fee to members, where the fee is less than 20% of the facility's monthly maintenance cost? Return the facid, facility name, member cost, and monthly maintenance of the facilities in question."
   ]
  },
  {
   "cell_type": "code",
   "execution_count": 5,
   "metadata": {},
   "outputs": [
    {
     "name": "stdout",
     "output_type": "stream",
     "text": [
      "   facid   facility_name membercost  monthlymaintenance\n",
      "0      0  Tennis Court 1        5.0                 200\n",
      "1      1  Tennis Court 2        5.0                 200\n",
      "2      4  Massage Room 1        9.9                3000\n",
      "3      5  Massage Room 2        9.9                3000\n",
      "4      6    Squash Court        3.5                  80\n"
     ]
    }
   ],
   "source": [
    "# execute SQL query using execute() method.\n",
    "cursor.execute(\"\"\"\n",
    "SELECT \n",
    "\n",
    "/* Retrieve facility ID, facility name, member cost, and monthly\n",
    "maintenance fee entries from the Facilities table */\n",
    "facid,\n",
    "name as facility_name,\n",
    "membercost,\n",
    "monthlymaintenance\n",
    "FROM Facilities\n",
    "\n",
    "/* Select only entries where the member cost is both greater than zero\n",
    "and less than 20% of the monthly maintenance cost */\n",
    "WHERE membercost > 0 AND membercost <(0.20 * monthlymaintenance);\n",
    "\"\"\")\n",
    "# Store query results in a Pandas dataframe for formatting\n",
    "df = pd.DataFrame(cursor.fetchall())\n",
    "# Print dataframe\n",
    "print(df)"
   ]
  },
  {
   "cell_type": "markdown",
   "metadata": {},
   "source": [
    "#### Q4: How can you retrieve the details of facilities with ID 1 and 5? Write the query without using the OR operator. "
   ]
  },
  {
   "cell_type": "code",
   "execution_count": 6,
   "metadata": {},
   "outputs": [
    {
     "name": "stdout",
     "output_type": "stream",
     "text": [
      "   facid guestcost  initialoutlay membercost  monthlymaintenance  \\\n",
      "0      1      25.0           8000        5.0                 200   \n",
      "1      5      80.0           4000        9.9                3000   \n",
      "\n",
      "             name  \n",
      "0  Tennis Court 2  \n",
      "1  Massage Room 2  \n"
     ]
    }
   ],
   "source": [
    "# execute SQL query using execute() method.\n",
    "cursor.execute(\"\"\"\n",
    "SELECT \n",
    "/* Retrieve all entries from the Facilities table */\n",
    "*\n",
    "FROM Facilities\n",
    "\n",
    "/* Select only those entries that have a facility ID in the list \"1,5\" */\n",
    "WHERE facid IN (1,5);\n",
    "\"\"\")\n",
    "# Store query results in a Pandas dataframe for formatting\n",
    "df = pd.DataFrame(cursor.fetchall())\n",
    "# Print dataframe\n",
    "print(df)"
   ]
  },
  {
   "cell_type": "markdown",
   "metadata": {},
   "source": [
    "#### Q5: How can you produce a list of facilities, with each labelled as 'cheap' or 'expensive', depending on if their monthly maintenance cost is more than \\$100? Return the name and monthly maintenance of the facilities in question."
   ]
  },
  {
   "cell_type": "code",
   "execution_count": 7,
   "metadata": {},
   "outputs": [
    {
     "name": "stdout",
     "output_type": "stream",
     "text": [
      "  maintenance_cost  monthlymaintenance             name\n",
      "0        expensive                 200   Tennis Court 1\n",
      "1        expensive                 200   Tennis Court 2\n",
      "2            cheap                  50  Badminton Court\n",
      "3            cheap                  10     Table Tennis\n",
      "4        expensive                3000   Massage Room 1\n",
      "5        expensive                3000   Massage Room 2\n",
      "6            cheap                  80     Squash Court\n",
      "7            cheap                  15    Snooker Table\n",
      "8            cheap                  15       Pool Table\n"
     ]
    }
   ],
   "source": [
    "# execute SQL query using execute() method.\n",
    "cursor.execute(\"\"\"\n",
    "SELECT \n",
    "/* Retreive the name and monthly maintenance entries from the Facilities table */\n",
    "name,\n",
    "monthlymaintenance,\n",
    "\n",
    "/* If the cost is less than or equal to 100, add the value \"cheap\" to new column\n",
    "\"maintenance_cost\". Else, label it \"expensive\". */\n",
    "(CASE WHEN monthlymaintenance <=100 THEN \"cheap\" ELSE \"expensive\" END) AS maintenance_cost\n",
    "\n",
    "FROM Facilities;\n",
    "\"\"\")\n",
    "# Store query results in a Pandas dataframe for formatting\n",
    "df = pd.DataFrame(cursor.fetchall())\n",
    "# Print dataframe\n",
    "print(df)"
   ]
  },
  {
   "cell_type": "markdown",
   "metadata": {},
   "source": [
    "#### Q6: You'd like to get the first and last name of the last member(s) who signed up. Do not use the LIMIT clause for your solution."
   ]
  },
  {
   "cell_type": "code",
   "execution_count": 8,
   "metadata": {},
   "outputs": [
    {
     "name": "stdout",
     "output_type": "stream",
     "text": [
      "  firstname surname\n",
      "0    Darren   Smith\n"
     ]
    }
   ],
   "source": [
    "# execute SQL query using execute() method.\n",
    "cursor.execute(\"\"\"\n",
    "SELECT \n",
    "/* Retrieve columns containing firstname and lastname */\n",
    "firstname,\n",
    "surname\n",
    "\n",
    "/* Inner join members to a constructed table containing only the name of the \n",
    "latest member to sign up */\n",
    "\n",
    "FROM Members\n",
    "INNER JOIN (\n",
    "\n",
    "/* Select member with most recent join dat. Use memid to exclude guest entries. */\n",
    "SELECT MAX(joindate) as recent_date\n",
    "FROM Members\n",
    "WHERE memid > 0\n",
    ") AS recentdate\n",
    "ON recentdate.recent_date = Members.joindate;\n",
    "\"\"\")\n",
    "# Store query results in a Pandas dataframe for formatting\n",
    "df = pd.DataFrame(cursor.fetchall())\n",
    "# Print dataframe\n",
    "print(df)"
   ]
  },
  {
   "cell_type": "markdown",
   "metadata": {},
   "source": [
    "#### Q7: How can you produce a list of all members who have used a tennis court? Include in your output the name of the court, and the name of the member formatted as a single column. Ensure no duplicate data, and order by the member name."
   ]
  },
  {
   "cell_type": "code",
   "execution_count": 9,
   "metadata": {},
   "outputs": [
    {
     "name": "stdout",
     "output_type": "stream",
     "text": [
      "        court_name         member_name\n",
      "0   Tennis Court 1     Bader, Florence\n",
      "1   Tennis Court 2     Bader, Florence\n",
      "2   Tennis Court 2         Baker, Anne\n",
      "3   Tennis Court 1         Baker, Anne\n",
      "4   Tennis Court 2      Baker, Timothy\n",
      "5   Tennis Court 1      Baker, Timothy\n",
      "6   Tennis Court 1         Boothe, Tim\n",
      "7   Tennis Court 2         Boothe, Tim\n",
      "8   Tennis Court 2     Butters, Gerald\n",
      "9   Tennis Court 1     Butters, Gerald\n",
      "10  Tennis Court 1        Coplin, Joan\n",
      "11  Tennis Court 1      Crumpet, Erica\n",
      "12  Tennis Court 1         Dare, Nancy\n",
      "13  Tennis Court 2         Dare, Nancy\n",
      "14  Tennis Court 1      Farrell, David\n",
      "15  Tennis Court 2      Farrell, David\n",
      "16  Tennis Court 1     Farrell, Jemima\n",
      "17  Tennis Court 2     Farrell, Jemima\n",
      "18  Tennis Court 1    Genting, Matthew\n",
      "19  Tennis Court 1        GUEST, GUEST\n",
      "20  Tennis Court 2        GUEST, GUEST\n",
      "21  Tennis Court 2          Hunt, John\n",
      "22  Tennis Court 1          Hunt, John\n",
      "23  Tennis Court 2        Jones, David\n",
      "24  Tennis Court 1        Jones, David\n",
      "25  Tennis Court 1      Jones, Douglas\n",
      "26  Tennis Court 1    Joplette, Janice\n",
      "27  Tennis Court 2    Joplette, Janice\n",
      "28  Tennis Court 2       Owen, Charles\n",
      "29  Tennis Court 1       Owen, Charles\n",
      "30  Tennis Court 1       Pinker, David\n",
      "31  Tennis Court 2  Purview, Millicent\n",
      "32  Tennis Court 1         Rownam, Tim\n",
      "33  Tennis Court 2         Rownam, Tim\n",
      "34  Tennis Court 2   Rumney, Henrietta\n",
      "35  Tennis Court 1   Sarwin, Ramnaresh\n",
      "36  Tennis Court 2   Sarwin, Ramnaresh\n",
      "37  Tennis Court 2       Smith, Darren\n",
      "38  Tennis Court 2         Smith, Jack\n",
      "39  Tennis Court 1         Smith, Jack\n",
      "40  Tennis Court 1        Smith, Tracy\n",
      "41  Tennis Court 2        Smith, Tracy\n",
      "42  Tennis Court 1    Stibbons, Ponder\n",
      "43  Tennis Court 2    Stibbons, Ponder\n",
      "44  Tennis Court 1       Tracy, Burton\n",
      "45  Tennis Court 2       Tracy, Burton\n"
     ]
    }
   ],
   "source": [
    "# execute SQL query using execute() method.\n",
    "cursor.execute(\"\"\"\n",
    "SELECT \n",
    "/* Concatenate member lastname and firstname into a single column, formatted\n",
    "\"lastname, firstname\". Use DISTINCT to avoid duplicate entries. */\n",
    "DISTINCT CONCAT(surname, ', ', firstname) AS member_name,\n",
    "\n",
    "/* Retrieve the facility name and assign column name court_name */\n",
    "Facilities.name AS court_name\n",
    "\n",
    "/* Join Members table to Bookings table on memid. Join the resulting table\n",
    "to the Facilities table on facid. */\n",
    "FROM Members \n",
    "INNER JOIN Bookings ON Members.memid=Bookings.memid\n",
    "INNER JOIN Facilities ON Bookings.facid=Facilities.facid\n",
    "\n",
    "/* Select only the entries where the facility is a tennis court. */\n",
    "WHERE Facilities.name LIKE 'Tennis Court%'\n",
    "/* Order the results by member name, ascending. */\n",
    "ORDER BY member_name ASC;\n",
    "\"\"\")\n",
    "# Store query results in a Pandas dataframe for formatting\n",
    "df = pd.DataFrame(cursor.fetchall())\n",
    "# Print dataframe\n",
    "print(df)"
   ]
  },
  {
   "cell_type": "markdown",
   "metadata": {},
   "source": [
    "#### Q8: How can you produce a list of bookings on the day of 2012-09-14 which will cost the member (or guest) more than \\$30? Remember that guests have different costs to members (the listed costs are per half-hour 'slot'), and the guest user's ID is always 0. Include in your output the name of the facility, the name of the member formatted as a single column, and the cost. Order by descending cost, and do not use any subqueries."
   ]
  },
  {
   "cell_type": "code",
   "execution_count": 10,
   "metadata": {},
   "outputs": [
    {
     "name": "stdout",
     "output_type": "stream",
     "text": [
      "     facility_name      member_name total_cost\n",
      "0   Massage Room 2     GUEST, GUEST      320.0\n",
      "1   Massage Room 1     GUEST, GUEST      160.0\n",
      "2   Massage Room 1     GUEST, GUEST      160.0\n",
      "3   Massage Room 1     GUEST, GUEST      160.0\n",
      "4   Tennis Court 2     GUEST, GUEST      150.0\n",
      "5   Tennis Court 1     GUEST, GUEST       75.0\n",
      "6   Tennis Court 2     GUEST, GUEST       75.0\n",
      "7   Tennis Court 1     GUEST, GUEST       75.0\n",
      "8     Squash Court     GUEST, GUEST       70.0\n",
      "9   Massage Room 1  Farrell, Jemima       39.6\n",
      "10    Squash Court     GUEST, GUEST       35.0\n",
      "11    Squash Court     GUEST, GUEST       35.0\n"
     ]
    }
   ],
   "source": [
    "# execute SQL query using execute() method.\n",
    "cursor.execute(\"\"\"\n",
    "SELECT \n",
    "/* Retrieve the facility name and assign column name facility_name */\n",
    "Facilities.name AS facility_name,\n",
    "\n",
    "/* Concatenate member lastname and firstname into a single column, formatted\n",
    "\"lastname, firstname\" */\n",
    "CONCAT(Members.surname, ', ', Members.firstname) as member_name,\n",
    "\n",
    "/* When the member ID of 0 indicates that the booking is for a guest, multiply \n",
    "the guestcost times the number of slots they have booked. If the member ID does \n",
    "not correspond with a guest, multiply the member cost times slots booked. */\n",
    "\n",
    "CASE WHEN Bookings.memid=0 THEN Facilities.guestcost*Bookings.slots \n",
    "ELSE Facilities.membercost*Bookings.slots END AS total_cost\n",
    "\n",
    "/* Join Bookings table to Facilties on facid, the join the resulting table to\n",
    "members on memid.*/\n",
    "FROM Bookings\n",
    "INNER JOIN Facilities ON Bookings.facid=Facilities.facid\n",
    "INNER JOIN Members ON Bookings.memid=Members.memid\n",
    "\n",
    "/* Select only the entries for the date 2012-09-14, and only when the total cost\n",
    "to guest or member is greater than $30 */\n",
    "WHERE DATE_FORMAT(starttime, '%Y-%m-%d') = '2012-09-14'\n",
    "AND (CASE WHEN Bookings.memid=0 THEN Facilities.guestcost*Bookings.slots \n",
    "ELSE Facilities.membercost*Bookings.slots END) > 30\n",
    "\n",
    "/* Order all results by total cost, descending */\n",
    "ORDER BY total_cost DESC;\n",
    "\"\"\")\n",
    "# Store query results in a Pandas dataframe for formatting\n",
    "df = pd.DataFrame(cursor.fetchall())\n",
    "# Print dataframe\n",
    "print(df)"
   ]
  },
  {
   "cell_type": "markdown",
   "metadata": {},
   "source": [
    "#### Q9: This time, produce the same result as in Q8, but using a subquery."
   ]
  },
  {
   "cell_type": "code",
   "execution_count": 11,
   "metadata": {},
   "outputs": [
    {
     "name": "stdout",
     "output_type": "stream",
     "text": [
      "     facility_name      member_name total_cost\n",
      "0   Massage Room 2     GUEST, GUEST      320.0\n",
      "1   Massage Room 1     GUEST, GUEST      160.0\n",
      "2   Massage Room 1     GUEST, GUEST      160.0\n",
      "3   Massage Room 1     GUEST, GUEST      160.0\n",
      "4   Tennis Court 2     GUEST, GUEST      150.0\n",
      "5   Tennis Court 1     GUEST, GUEST       75.0\n",
      "6   Tennis Court 2     GUEST, GUEST       75.0\n",
      "7   Tennis Court 1     GUEST, GUEST       75.0\n",
      "8     Squash Court     GUEST, GUEST       70.0\n",
      "9   Massage Room 1  Farrell, Jemima       39.6\n",
      "10    Squash Court     GUEST, GUEST       35.0\n",
      "11    Squash Court     GUEST, GUEST       35.0\n"
     ]
    }
   ],
   "source": [
    "# execute SQL query using execute() method.\n",
    "cursor.execute(\"\"\"\n",
    "SELECT \n",
    "/* Perform operations on columns retrieved in subquery */\n",
    "facility_name,\n",
    "CONCAT(surname, ', ', firstname) AS member_name,\n",
    "CASE WHEN memid=0 THEN guestcost*slots ELSE membercost*slots END AS total_cost\n",
    "\n",
    "FROM\n",
    "/* Use subquery to perform table joins and select columns to calculate final\n",
    "output */\n",
    "(SELECT\n",
    "/* Columns needed for final output */\n",
    "Facilities.name AS facility_name,\n",
    "Members.surname as surname,\n",
    "Members.firstname as firstname,\n",
    "Members.memid AS memid,\n",
    "Facilities.membercost AS membercost,\n",
    "Facilities.guestcost AS guestcost,\n",
    "Bookings.slots AS slots\n",
    "\n",
    "/* Table joins */\n",
    "FROM Bookings\n",
    "INNER JOIN Facilities ON Bookings.facid=Facilities.facid\n",
    "INNER JOIN Members ON Bookings.memid=Members.memid\n",
    "WHERE DATE_FORMAT(starttime, '%Y-%m-%d') = '2012-09-14'\n",
    ") sub\n",
    "\n",
    "/* Return result of operations above where the total cost\n",
    "to guest or member is greater than $30 */\n",
    "WHERE (CASE WHEN memid=0 THEN guestcost*slots ELSE membercost*slots END) > 30\n",
    "\n",
    "/* Order by total cost, descending */\n",
    "ORDER BY total_cost DESC;\n",
    "\"\"\")\n",
    "# Store query results in a Pandas dataframe for formatting\n",
    "df = pd.DataFrame(cursor.fetchall())\n",
    "# Print dataframe\n",
    "print(df)"
   ]
  },
  {
   "cell_type": "markdown",
   "metadata": {},
   "source": [
    "#### Q10: Produce a list of facilities with a total revenue less than 1000. The output of facility name and total revenue, sorted by revenue. Remember that there's a different cost for guests and members!"
   ]
  },
  {
   "cell_type": "code",
   "execution_count": 12,
   "metadata": {},
   "outputs": [
    {
     "name": "stdout",
     "output_type": "stream",
     "text": [
      "   facility_name total_revenue\n",
      "0     Pool Table         270.0\n",
      "1  Snooker Table         240.0\n",
      "2   Table Tennis         180.0\n"
     ]
    }
   ],
   "source": [
    "# execute SQL query using execute() method.\n",
    "cursor.execute(\"\"\"\n",
    "SELECT \n",
    "/* Select facility name from subquery */\n",
    "facility_name,\n",
    "\n",
    "/* Calculate total revenue depending on whether a guest or member has\n",
    "booked a facility, then sum the total revenue based on criteria to be\n",
    "given below. */\n",
    "SUM(CASE WHEN memid=0 THEN guestcost*slots \n",
    "ELSE membercost*slots END) AS total_revenue\n",
    "\n",
    "/* Join tables and retrieve columns necessary to calculate final output */\n",
    "FROM (\n",
    "SELECT \n",
    "/* Retrieve columns */\n",
    "Members.memid AS memid,\n",
    "Facilities.name AS facility_name,\n",
    "Facilities.guestcost AS guestcost,\n",
    "Facilities.membercost AS membercost,\n",
    "Bookings.slots AS slots\n",
    "\n",
    "/* Join Bookings table to Facilties on facid, the join the resulting table to\n",
    "members on memid. */\n",
    "FROM Bookings\n",
    "INNER JOIN Facilities ON Bookings.facid=Facilities.facid\n",
    "INNER JOIN Members ON Bookings.memid=Members.memid\n",
    ") sub\n",
    "\n",
    "/* Sum total_revenue based on facility name */\n",
    "GROUP BY facility_name\n",
    "\n",
    "/* Only return summed total revenue values of less than $1000 */\n",
    "HAVING total_revenue < 1000\n",
    "\n",
    "/* Order the results by total revenue, descending */\n",
    "ORDER BY total_revenue DESC;\n",
    "\"\"\")\n",
    "# Store query results in a Pandas dataframe for formatting\n",
    "df = pd.DataFrame(cursor.fetchall())\n",
    "# Print dataframe\n",
    "print(df)"
   ]
  },
  {
   "cell_type": "code",
   "execution_count": 13,
   "metadata": {},
   "outputs": [],
   "source": [
    "db.close()"
   ]
  }
 ],
 "metadata": {
  "hide_input": false,
  "kernelspec": {
   "display_name": "Python 3",
   "language": "python",
   "name": "python3"
  },
  "language_info": {
   "codemirror_mode": {
    "name": "ipython",
    "version": 3
   },
   "file_extension": ".py",
   "mimetype": "text/x-python",
   "name": "python",
   "nbconvert_exporter": "python",
   "pygments_lexer": "ipython3",
   "version": "3.6.5"
  }
 },
 "nbformat": 4,
 "nbformat_minor": 2
}
